{
 "cells": [
  {
   "cell_type": "code",
   "execution_count": 1,
   "metadata": {},
   "outputs": [
    {
     "name": "stdout",
     "output_type": "stream",
     "text": [
      "TF version: 2.4.1\n"
     ]
    }
   ],
   "source": [
    "# import the general stuff\n",
    "import os\n",
    "from os import getcwd\n",
    "import matplotlib.pyplot as plt\n",
    "import pandas as pd \n",
    "#import numpy as np\n",
    "#from sklearn import metrics\n",
    "#import math\n",
    "\n",
    "#import stuff for gradCAM\n",
    "#import matplotlib.cm as cm\n",
    "#from IPython.display import Image\n",
    "\n",
    "#Set GPU to use\n",
    "#os.environ[\"CUDA_DEVICE_ORDER\"] = \"PCI_BUS_ID\"\n",
    "#os.environ[\"CUDA_VISIBLE_DEVICES\"] = \"0\"\n",
    "\n",
    "#import the tf stuff\n",
    "import tensorflow as tf\n",
    "from tensorflow.keras import layers\n",
    "from tensorflow.keras import Model\n",
    "\n",
    "from tensorflow.keras.preprocessing.image import ImageDataGenerator\n",
    "\n",
    "#Check TensorFlow Version\n",
    "print('TF version: {}' .format(tf.__version__))"
   ]
  },
  {
   "cell_type": "code",
   "execution_count": 2,
   "metadata": {},
   "outputs": [],
   "source": [
    "#code for GPU mem growth\n",
    "\n",
    "from tensorflow.compat.v1 import ConfigProto\n",
    "from tensorflow.compat.v1 import InteractiveSession\n",
    "\n",
    "config = ConfigProto()\n",
    "config.gpu_options.allow_growth = True\n",
    "session = InteractiveSession(config=config)"
   ]
  },
  {
   "cell_type": "code",
   "execution_count": 3,
   "metadata": {},
   "outputs": [
    {
     "name": "stdout",
     "output_type": "stream",
     "text": [
      " GPU: /device:GPU:0\n"
     ]
    }
   ],
   "source": [
    "#Check for GPU utilization\n",
    "if tf.test.gpu_device_name():\n",
    "    print(' GPU: {}'.format(tf.test.gpu_device_name()))\n",
    "else:\n",
    "    print(\"No GPU\")"
   ]
  },
  {
   "cell_type": "code",
   "execution_count": 4,
   "metadata": {},
   "outputs": [],
   "source": [
    "# define a callback\n",
    "\n",
    "callbacks = tf.keras.callbacks.EarlyStopping(monitor = 'val_loss', \n",
    "                                             patience = 15, \n",
    "                                             restore_best_weights = True)"
   ]
  },
  {
   "cell_type": "code",
   "execution_count": 5,
   "metadata": {},
   "outputs": [
    {
     "name": "stdout",
     "output_type": "stream",
     "text": [
      "Found 240 validated image filenames.\n",
      "Found 60 validated image filenames.\n"
     ]
    }
   ],
   "source": [
    "#build data generators for training and validaton\n",
    "\n",
    "split = 0.2\n",
    "\n",
    "df = pd.read_csv('../data/SedMLdata.csv')\n",
    "\n",
    "# Define dirs and files\n",
    "train_data_dir = '../data/CropPics'\n",
    "\n",
    "# Add our data-augmentation parameters to ImageDataGenerator and split data\n",
    "train_datagen = ImageDataGenerator(rescale =1./255.,\n",
    "                                   horizontal_flip = True,\n",
    "                                   vertical_flip = True,\n",
    "                                   validation_split = split)\n",
    "\n",
    "\n",
    "#set batch Size\n",
    "batch_size = 8\n",
    "\n",
    "#set Image size (RGB so imshape is 3)\n",
    "pix_dim = 1024\n",
    "imsize = (pix_dim,pix_dim) \n",
    "imshape = (pix_dim,pix_dim,3)\n",
    "\n",
    "# Flow training images in batches \n",
    "train_generator = train_datagen.flow_from_dataframe(dataframe = df,\n",
    "                                                    directory = train_data_dir,\n",
    "                                                    batch_size = batch_size,\n",
    "                                                    class_mode = 'raw',\n",
    "                                                    x_col = 'CropName',\n",
    "                                                    y_col = 'D50mm',\n",
    "                                                    target_size = imsize,\n",
    "                                                    color_mode = 'rgb',\n",
    "                                                    subset='training')\n",
    "\n",
    "# Flow validation images in batches \n",
    "validation_generator =  train_datagen.flow_from_dataframe(dataframe=df,\n",
    "                                                          directory = train_data_dir,\n",
    "                                                          batch_size = batch_size,\n",
    "                                                          class_mode = 'raw',\n",
    "                                                          x_col = 'CropName',\n",
    "                                                          y_col = 'D50mm',\n",
    "                                                          target_size = imsize,\n",
    "                                                          color_mode = 'rgb',\n",
    "                                                          subset='validation')"
   ]
  },
  {
   "cell_type": "code",
   "execution_count": 6,
   "metadata": {},
   "outputs": [],
   "source": [
    "\n",
    "total_train = 240\n",
    "total_val = 60"
   ]
  },
  {
   "cell_type": "code",
   "execution_count": 7,
   "metadata": {},
   "outputs": [],
   "source": [
    "# define other metrics\n",
    "#mae_metric = tf.keras.metrics.MeanAbsoluteError(name='mae')"
   ]
  },
  {
   "cell_type": "code",
   "execution_count": 8,
   "metadata": {},
   "outputs": [
    {
     "name": "stdout",
     "output_type": "stream",
     "text": [
      "Model: \"SandCam_CNN\"\n",
      "_________________________________________________________________\n",
      "Layer (type)                 Output Shape              Param #   \n",
      "=================================================================\n",
      "conv2d (Conv2D)              (None, 1024, 1024, 32)    2432      \n",
      "_________________________________________________________________\n",
      "batch_normalization (BatchNo (None, 1024, 1024, 32)    128       \n",
      "_________________________________________________________________\n",
      "max_pooling2d (MaxPooling2D) (None, 512, 512, 32)      0         \n",
      "_________________________________________________________________\n",
      "conv2d_1 (Conv2D)            (None, 512, 512, 64)      18496     \n",
      "_________________________________________________________________\n",
      "conv2d_2 (Conv2D)            (None, 512, 512, 64)      36928     \n",
      "_________________________________________________________________\n",
      "batch_normalization_1 (Batch (None, 512, 512, 64)      256       \n",
      "_________________________________________________________________\n",
      "max_pooling2d_1 (MaxPooling2 (None, 256, 256, 64)      0         \n",
      "_________________________________________________________________\n",
      "conv2d_3 (Conv2D)            (None, 256, 256, 128)     73856     \n",
      "_________________________________________________________________\n",
      "conv2d_4 (Conv2D)            (None, 256, 256, 128)     147584    \n",
      "_________________________________________________________________\n",
      "batch_normalization_2 (Batch (None, 256, 256, 128)     512       \n",
      "_________________________________________________________________\n",
      "max_pooling2d_2 (MaxPooling2 (None, 128, 128, 128)     0         \n",
      "_________________________________________________________________\n",
      "global_max_pooling2d (Global (None, 128)               0         \n",
      "_________________________________________________________________\n",
      "dense (Dense)                (None, 128)               16512     \n",
      "_________________________________________________________________\n",
      "dropout (Dropout)            (None, 128)               0         \n",
      "_________________________________________________________________\n",
      "dense_1 (Dense)              (None, 64)                8256      \n",
      "_________________________________________________________________\n",
      "dropout_1 (Dropout)          (None, 64)                0         \n",
      "_________________________________________________________________\n",
      "dense_2 (Dense)              (None, 1)                 65        \n",
      "=================================================================\n",
      "Total params: 305,025\n",
      "Trainable params: 304,577\n",
      "Non-trainable params: 448\n",
      "_________________________________________________________________\n"
     ]
    }
   ],
   "source": [
    "#model\n",
    "\n",
    "model = tf.keras.Sequential([\n",
    "    layers.InputLayer(input_shape=imshape),\n",
    "    layers.Conv2D(filters=32, kernel_size=5, padding='same', activation='relu'),\n",
    "    layers.BatchNormalization(),\n",
    "    layers.MaxPool2D(),\n",
    "    \n",
    "    layers.Conv2D(64, 3, padding='same', activation='relu'),\n",
    "    layers.Conv2D(64, 3, padding='same', activation='relu'),\n",
    "    layers.BatchNormalization(),\n",
    "    layers.MaxPool2D(),\n",
    "    \n",
    "    layers.Conv2D(128, 3, padding='same', activation='relu'),\n",
    "    layers.Conv2D(128, 3, padding='same', activation='relu'),\n",
    "    layers.BatchNormalization(),\n",
    "    layers.MaxPool2D(),\n",
    "    \n",
    "    layers.GlobalMaxPooling2D(),\n",
    "    layers.Dense(128, activation='relu'),\n",
    "    layers.Dropout(0.5),\n",
    "    layers.Dense(64, activation='relu'),\n",
    "    layers.Dropout(0.5),\n",
    "    layers.Dense(1, activation=\"linear\")\n",
    "])\n",
    "\n",
    "\n",
    "model._name=\"SandCam_CNN\"\n",
    "\n",
    "model.summary()\n"
   ]
  },
  {
   "cell_type": "code",
   "execution_count": 12,
   "metadata": {},
   "outputs": [],
   "source": [
    "#compile\n",
    "model.compile(loss='mean_squared_error', \n",
    "              optimizer=tf.keras.optimizers.Adam()\n",
    "             )"
   ]
  },
  {
   "cell_type": "code",
   "execution_count": 13,
   "metadata": {},
   "outputs": [],
   "source": [
    "#LOSS CURVE"
   ]
  },
  {
   "cell_type": "code",
   "execution_count": 14,
   "metadata": {},
   "outputs": [
    {
     "name": "stdout",
     "output_type": "stream",
     "text": [
      "Epoch 1/20\n",
      "30/30 [==============================] - 22s 500ms/step - loss: 137.4983 - mse: 137.4983 - val_loss: 0.3321 - val_mse: 0.3321\n",
      "Epoch 2/20\n",
      "30/30 [==============================] - 16s 541ms/step - loss: 6.0686 - mse: 6.0686 - val_loss: 0.5115 - val_mse: 0.5115\n",
      "Epoch 3/20\n",
      "30/30 [==============================] - 17s 577ms/step - loss: 1.7715 - mse: 1.7715 - val_loss: 0.6262 - val_mse: 0.6262\n",
      "Epoch 4/20\n",
      "30/30 [==============================] - 17s 565ms/step - loss: 1.5354 - mse: 1.5354 - val_loss: 0.7102 - val_mse: 0.7102\n",
      "Epoch 5/20\n",
      "30/30 [==============================] - 18s 580ms/step - loss: 0.5103 - mse: 0.5103 - val_loss: 0.7287 - val_mse: 0.7287\n",
      "Epoch 6/20\n",
      "30/30 [==============================] - 18s 598ms/step - loss: 0.3180 - mse: 0.3180 - val_loss: 0.7346 - val_mse: 0.7346\n",
      "Epoch 7/20\n",
      "30/30 [==============================] - 18s 595ms/step - loss: 0.3854 - mse: 0.3854 - val_loss: 0.7657 - val_mse: 0.7657\n",
      "Epoch 8/20\n",
      "30/30 [==============================] - 18s 611ms/step - loss: 0.2976 - mse: 0.2976 - val_loss: 0.6888 - val_mse: 0.6888\n",
      "Epoch 9/20\n",
      "30/30 [==============================] - 19s 624ms/step - loss: 0.2266 - mse: 0.2266 - val_loss: 0.5707 - val_mse: 0.5707\n",
      "Epoch 10/20\n",
      "30/30 [==============================] - 19s 621ms/step - loss: 0.1972 - mse: 0.1972 - val_loss: 0.5160 - val_mse: 0.5160\n",
      "Epoch 11/20\n",
      "30/30 [==============================] - 19s 649ms/step - loss: 0.1883 - mse: 0.1883 - val_loss: 0.3880 - val_mse: 0.3880\n",
      "Epoch 12/20\n",
      "30/30 [==============================] - 18s 612ms/step - loss: 0.1656 - mse: 0.1656 - val_loss: 0.4823 - val_mse: 0.4823\n",
      "Epoch 13/20\n",
      "30/30 [==============================] - 19s 640ms/step - loss: 0.1474 - mse: 0.1474 - val_loss: 0.4743 - val_mse: 0.4743\n",
      "Epoch 14/20\n",
      "30/30 [==============================] - 19s 632ms/step - loss: 0.1224 - mse: 0.1224 - val_loss: 0.3876 - val_mse: 0.3876\n",
      "Epoch 15/20\n",
      "30/30 [==============================] - 19s 631ms/step - loss: 0.1557 - mse: 0.1557 - val_loss: 0.3127 - val_mse: 0.3127\n",
      "Epoch 16/20\n",
      "30/30 [==============================] - 19s 639ms/step - loss: 0.1351 - mse: 0.1351 - val_loss: 0.4106 - val_mse: 0.4106\n",
      "Epoch 17/20\n",
      "30/30 [==============================] - 19s 648ms/step - loss: 0.0889 - mse: 0.0889 - val_loss: 0.3742 - val_mse: 0.3742\n",
      "Epoch 18/20\n",
      "30/30 [==============================] - 19s 632ms/step - loss: 0.1243 - mse: 0.1243 - val_loss: 0.3489 - val_mse: 0.3489\n",
      "Epoch 19/20\n",
      "30/30 [==============================] - 19s 642ms/step - loss: 0.1097 - mse: 0.1097 - val_loss: 0.2881 - val_mse: 0.2881\n",
      "Epoch 20/20\n",
      "30/30 [==============================] - 19s 637ms/step - loss: 0.0957 - mse: 0.0957 - val_loss: 0.2948 - val_mse: 0.2948\n"
     ]
    }
   ],
   "source": [
    "#train the model\n",
    "history = model.fit(train_generator,\n",
    "                    steps_per_epoch = total_train // batch_size,\n",
    "                    validation_data = validation_generator,\n",
    "                    epochs= 20,\n",
    "                    validation_steps =  total_val // batch_size,\n",
    "                    callbacks =[callbacks])"
   ]
  },
  {
   "cell_type": "code",
   "execution_count": 24,
   "metadata": {},
   "outputs": [
    {
     "data": {
      "image/png": "[encoded data removed]",
      "text/plain": [
       "<Figure size 432x288 with 1 Axes>"
      ]
     },
     "metadata": {
      "needs_background": "light"
     },
     "output_type": "display_data"
    },
    {
     "data": {
      "text/plain": [
       "<Figure size 432x288 with 0 Axes>"
      ]
     },
     "metadata": {},
     "output_type": "display_data"
    }
   ],
   "source": [
    "#look at the metrics from training\n",
    "%matplotlib inline\n",
    "\n",
    "loss = history.history['loss']\n",
    "val_loss = history.history['val_loss']\n",
    "\n",
    "epochs = range(len(mse))\n",
    "\n",
    "plt.plot(epochs, loss, 'r', label='Training loss')\n",
    "plt.plot(epochs, val_loss, 'b', label='Validation loss')\n",
    "plt.ylim(0,1)\n",
    "\n",
    "plt.title('Training and validation loss (MSE)')\n",
    "plt.legend(loc=0)\n",
    "plt.figure()\n",
    "plt.show()\n"
   ]
  },
  {
   "cell_type": "code",
   "execution_count": null,
   "metadata": {},
   "outputs": [],
   "source": [
    "#save the model\n",
    "filepath = './models/SNmodel'\n",
    "model.save(filepath)\n"
   ]
  },
  {
   "cell_type": "code",
   "execution_count": null,
   "metadata": {},
   "outputs": [],
   "source": [
    "# #model size\n",
    "# model.save(\"./models/SNmodel.h5\")\n",
    "# model_file ='./models/SNmodel.h5'\n",
    "# b = os.path.getsize(model_file)\n",
    "# print (\"Size(mb): %d\" % (b/1000000))"
   ]
  },
  {
   "cell_type": "code",
   "execution_count": null,
   "metadata": {},
   "outputs": [],
   "source": [
    "#prune"
   ]
  },
  {
   "cell_type": "code",
   "execution_count": null,
   "metadata": {},
   "outputs": [],
   "source": [
    "#quantize"
   ]
  },
  {
   "cell_type": "code",
   "execution_count": null,
   "metadata": {},
   "outputs": [],
   "source": [
    "#test Quantize"
   ]
  }
 ],
 "metadata": {
  "kernelspec": {
   "display_name": "Python 3",
   "language": "python",
   "name": "python3"
  },
  "language_info": {
   "codemirror_mode": {
    "name": "ipython",
    "version": 3
   },
   "file_extension": ".py",
   "mimetype": "text/x-python",
   "name": "python",
   "nbconvert_exporter": "python",
   "pygments_lexer": "ipython3",
   "version": "3.8.10"
  }
 },
 "nbformat": 4,
 "nbformat_minor": 4
}
